{
 "cells": [
  {
   "cell_type": "code",
   "execution_count": 1,
   "metadata": {},
   "outputs": [],
   "source": [
    "# Caculate the Simple Rate of Return\n",
    "import numpy as np\n",
    "from pandas_datareader import data as wb\n",
    "import matplotlib.pyplot as plt"
   ]
  },
  {
   "cell_type": "code",
   "execution_count": 2,
   "metadata": {},
   "outputs": [],
   "source": [
    "PG = wb.DataReader('PG',data_source='yahoo',start='1995-1-1')"
   ]
  },
  {
   "cell_type": "code",
   "execution_count": 3,
   "metadata": {},
   "outputs": [
    {
     "data": {
      "text/html": [
       "<div>\n",
       "<style scoped>\n",
       "    .dataframe tbody tr th:only-of-type {\n",
       "        vertical-align: middle;\n",
       "    }\n",
       "\n",
       "    .dataframe tbody tr th {\n",
       "        vertical-align: top;\n",
       "    }\n",
       "\n",
       "    .dataframe thead th {\n",
       "        text-align: right;\n",
       "    }\n",
       "</style>\n",
       "<table border=\"1\" class=\"dataframe\">\n",
       "  <thead>\n",
       "    <tr style=\"text-align: right;\">\n",
       "      <th></th>\n",
       "      <th>High</th>\n",
       "      <th>Low</th>\n",
       "      <th>Open</th>\n",
       "      <th>Close</th>\n",
       "      <th>Volume</th>\n",
       "      <th>Adj Close</th>\n",
       "    </tr>\n",
       "    <tr>\n",
       "      <th>Date</th>\n",
       "      <th></th>\n",
       "      <th></th>\n",
       "      <th></th>\n",
       "      <th></th>\n",
       "      <th></th>\n",
       "      <th></th>\n",
       "    </tr>\n",
       "  </thead>\n",
       "  <tbody>\n",
       "    <tr>\n",
       "      <th>1995-01-03</th>\n",
       "      <td>15.62500</td>\n",
       "      <td>15.43750</td>\n",
       "      <td>15.46875</td>\n",
       "      <td>15.59375</td>\n",
       "      <td>3318400.0</td>\n",
       "      <td>6.441071</td>\n",
       "    </tr>\n",
       "    <tr>\n",
       "      <th>1995-01-04</th>\n",
       "      <td>15.65625</td>\n",
       "      <td>15.31250</td>\n",
       "      <td>15.53125</td>\n",
       "      <td>15.46875</td>\n",
       "      <td>2218800.0</td>\n",
       "      <td>6.389442</td>\n",
       "    </tr>\n",
       "    <tr>\n",
       "      <th>1995-01-05</th>\n",
       "      <td>15.43750</td>\n",
       "      <td>15.21875</td>\n",
       "      <td>15.37500</td>\n",
       "      <td>15.25000</td>\n",
       "      <td>2319600.0</td>\n",
       "      <td>6.299082</td>\n",
       "    </tr>\n",
       "    <tr>\n",
       "      <th>1995-01-06</th>\n",
       "      <td>15.40625</td>\n",
       "      <td>15.15625</td>\n",
       "      <td>15.15625</td>\n",
       "      <td>15.28125</td>\n",
       "      <td>3438000.0</td>\n",
       "      <td>6.311993</td>\n",
       "    </tr>\n",
       "    <tr>\n",
       "      <th>1995-01-09</th>\n",
       "      <td>15.40625</td>\n",
       "      <td>15.18750</td>\n",
       "      <td>15.34375</td>\n",
       "      <td>15.21875</td>\n",
       "      <td>1795200.0</td>\n",
       "      <td>6.286175</td>\n",
       "    </tr>\n",
       "  </tbody>\n",
       "</table>\n",
       "</div>"
      ],
      "text/plain": [
       "                High       Low      Open     Close     Volume  Adj Close\n",
       "Date                                                                    \n",
       "1995-01-03  15.62500  15.43750  15.46875  15.59375  3318400.0   6.441071\n",
       "1995-01-04  15.65625  15.31250  15.53125  15.46875  2218800.0   6.389442\n",
       "1995-01-05  15.43750  15.21875  15.37500  15.25000  2319600.0   6.299082\n",
       "1995-01-06  15.40625  15.15625  15.15625  15.28125  3438000.0   6.311993\n",
       "1995-01-09  15.40625  15.18750  15.34375  15.21875  1795200.0   6.286175"
      ]
     },
     "execution_count": 3,
     "metadata": {},
     "output_type": "execute_result"
    }
   ],
   "source": [
    "PG.head()"
   ]
  },
  {
   "cell_type": "code",
   "execution_count": 4,
   "metadata": {},
   "outputs": [
    {
     "data": {
      "text/html": [
       "<div>\n",
       "<style scoped>\n",
       "    .dataframe tbody tr th:only-of-type {\n",
       "        vertical-align: middle;\n",
       "    }\n",
       "\n",
       "    .dataframe tbody tr th {\n",
       "        vertical-align: top;\n",
       "    }\n",
       "\n",
       "    .dataframe thead th {\n",
       "        text-align: right;\n",
       "    }\n",
       "</style>\n",
       "<table border=\"1\" class=\"dataframe\">\n",
       "  <thead>\n",
       "    <tr style=\"text-align: right;\">\n",
       "      <th></th>\n",
       "      <th>High</th>\n",
       "      <th>Low</th>\n",
       "      <th>Open</th>\n",
       "      <th>Close</th>\n",
       "      <th>Volume</th>\n",
       "      <th>Adj Close</th>\n",
       "    </tr>\n",
       "    <tr>\n",
       "      <th>Date</th>\n",
       "      <th></th>\n",
       "      <th></th>\n",
       "      <th></th>\n",
       "      <th></th>\n",
       "      <th></th>\n",
       "      <th></th>\n",
       "    </tr>\n",
       "  </thead>\n",
       "  <tbody>\n",
       "    <tr>\n",
       "      <th>2019-07-22</th>\n",
       "      <td>115.449997</td>\n",
       "      <td>114.580002</td>\n",
       "      <td>115.040001</td>\n",
       "      <td>115.300003</td>\n",
       "      <td>4018800.0</td>\n",
       "      <td>115.300003</td>\n",
       "    </tr>\n",
       "    <tr>\n",
       "      <th>2019-07-23</th>\n",
       "      <td>116.050003</td>\n",
       "      <td>113.839996</td>\n",
       "      <td>115.709999</td>\n",
       "      <td>113.849998</td>\n",
       "      <td>8194600.0</td>\n",
       "      <td>113.849998</td>\n",
       "    </tr>\n",
       "    <tr>\n",
       "      <th>2019-07-24</th>\n",
       "      <td>113.879997</td>\n",
       "      <td>112.279999</td>\n",
       "      <td>113.849998</td>\n",
       "      <td>112.599998</td>\n",
       "      <td>9635900.0</td>\n",
       "      <td>112.599998</td>\n",
       "    </tr>\n",
       "    <tr>\n",
       "      <th>2019-07-25</th>\n",
       "      <td>112.980003</td>\n",
       "      <td>111.379997</td>\n",
       "      <td>111.480003</td>\n",
       "      <td>112.769997</td>\n",
       "      <td>7809400.0</td>\n",
       "      <td>112.769997</td>\n",
       "    </tr>\n",
       "    <tr>\n",
       "      <th>2019-07-26</th>\n",
       "      <td>114.879997</td>\n",
       "      <td>112.879997</td>\n",
       "      <td>113.209999</td>\n",
       "      <td>114.730003</td>\n",
       "      <td>5559600.0</td>\n",
       "      <td>114.730003</td>\n",
       "    </tr>\n",
       "  </tbody>\n",
       "</table>\n",
       "</div>"
      ],
      "text/plain": [
       "                  High         Low        Open       Close     Volume  \\\n",
       "Date                                                                    \n",
       "2019-07-22  115.449997  114.580002  115.040001  115.300003  4018800.0   \n",
       "2019-07-23  116.050003  113.839996  115.709999  113.849998  8194600.0   \n",
       "2019-07-24  113.879997  112.279999  113.849998  112.599998  9635900.0   \n",
       "2019-07-25  112.980003  111.379997  111.480003  112.769997  7809400.0   \n",
       "2019-07-26  114.879997  112.879997  113.209999  114.730003  5559600.0   \n",
       "\n",
       "             Adj Close  \n",
       "Date                    \n",
       "2019-07-22  115.300003  \n",
       "2019-07-23  113.849998  \n",
       "2019-07-24  112.599998  \n",
       "2019-07-25  112.769997  \n",
       "2019-07-26  114.730003  "
      ]
     },
     "execution_count": 4,
     "metadata": {},
     "output_type": "execute_result"
    }
   ],
   "source": [
    "PG.tail()"
   ]
  },
  {
   "cell_type": "code",
   "execution_count": 5,
   "metadata": {},
   "outputs": [
    {
     "name": "stdout",
     "output_type": "stream",
     "text": [
      "Date\n",
      "1995-01-03         NaN\n",
      "1995-01-04   -0.008016\n",
      "1995-01-05   -0.014142\n",
      "1995-01-06    0.002050\n",
      "1995-01-09   -0.004090\n",
      "1995-01-10    0.012321\n",
      "1995-01-11   -0.002029\n",
      "1995-01-12    0.010163\n",
      "1995-01-13    0.029230\n",
      "1995-01-16    0.008001\n",
      "1995-01-17    0.003968\n",
      "1995-01-18   -0.021739\n",
      "1995-01-19   -0.004041\n",
      "1995-01-20   -0.004057\n",
      "1995-01-23    0.010183\n",
      "1995-01-24   -0.002016\n",
      "1995-01-25    0.014141\n",
      "1995-01-26    0.003985\n",
      "1995-01-27    0.027778\n",
      "1995-01-30    0.015443\n",
      "1995-01-31   -0.009505\n",
      "1995-02-01   -0.019194\n",
      "1995-02-02    0.007828\n",
      "1995-02-03    0.009708\n",
      "1995-02-06    0.023077\n",
      "1995-02-07   -0.001879\n",
      "1995-02-08   -0.011299\n",
      "1995-02-09   -0.001904\n",
      "1995-02-10   -0.001909\n",
      "1995-02-13    0.007649\n",
      "                ...   \n",
      "2019-06-14    0.002615\n",
      "2019-06-17   -0.001888\n",
      "2019-06-18   -0.012524\n",
      "2019-06-19    0.007482\n",
      "2019-06-20    0.011954\n",
      "2019-06-21   -0.004833\n",
      "2019-06-24    0.010162\n",
      "2019-06-25   -0.005430\n",
      "2019-06-26   -0.017812\n",
      "2019-06-27    0.000456\n",
      "2019-06-28   -0.001184\n",
      "2019-07-01    0.007661\n",
      "2019-07-02    0.008960\n",
      "2019-07-03    0.023323\n",
      "2019-07-05   -0.008152\n",
      "2019-07-08    0.007954\n",
      "2019-07-09   -0.009996\n",
      "2019-07-10    0.007440\n",
      "2019-07-11    0.005538\n",
      "2019-07-12    0.005333\n",
      "2019-07-15    0.004261\n",
      "2019-07-16    0.003550\n",
      "2019-07-17    0.000431\n",
      "2019-07-18    0.002136\n",
      "2019-07-19   -0.003725\n",
      "2019-07-22    0.002522\n",
      "2019-07-23   -0.012576\n",
      "2019-07-24   -0.010979\n",
      "2019-07-25    0.001510\n",
      "2019-07-26    0.017381\n",
      "Name: simple_return, Length: 6185, dtype: float64\n"
     ]
    }
   ],
   "source": [
    "PG['simple_return'] = (PG['Adj Close']/PG['Adj Close'].shift(1)) - 1\n",
    "print(PG['simple_return'])"
   ]
  },
  {
   "cell_type": "code",
   "execution_count": 11,
   "metadata": {},
   "outputs": [
    {
     "data": {
      "image/png": "[encoded data removed]",
      "text/plain": [
       "<Figure size 576x360 with 1 Axes>"
      ]
     },
     "metadata": {
      "needs_background": "light"
     },
     "output_type": "display_data"
    }
   ],
   "source": [
    "PG['simple_return'].plot(figsize=(8,5))\n",
    "plt.show()"
   ]
  },
  {
   "cell_type": "code",
   "execution_count": 7,
   "metadata": {},
   "outputs": [
    {
     "data": {
      "text/plain": [
       "0.0005647905261228803"
      ]
     },
     "execution_count": 7,
     "metadata": {},
     "output_type": "execute_result"
    }
   ],
   "source": [
    "avg_returns_d = PG['simple_return'].mean()\n",
    "avg_returns_d"
   ]
  },
  {
   "cell_type": "code",
   "execution_count": 8,
   "metadata": {},
   "outputs": [
    {
     "data": {
      "text/plain": [
       "0.14119763153072007"
      ]
     },
     "execution_count": 8,
     "metadata": {},
     "output_type": "execute_result"
    }
   ],
   "source": [
    "avg_returns_a = PG['simple_return'].mean()*250   # caculating the annual avg return with excluding the non trading days\n",
    "avg_returns_a"
   ]
  },
  {
   "cell_type": "code",
   "execution_count": 10,
   "metadata": {},
   "outputs": [
    {
     "name": "stdout",
     "output_type": "stream",
     "text": [
      "14.12 %\n"
     ]
    }
   ],
   "source": [
    "print(str(round(avg_returns_a,5)*100) + ' %')"
   ]
  },
  {
   "cell_type": "code",
   "execution_count": 12,
   "metadata": {},
   "outputs": [
    {
     "name": "stdout",
     "output_type": "stream",
     "text": [
      "Date\n",
      "1995-01-03         NaN\n",
      "1995-01-04   -0.008048\n",
      "1995-01-05   -0.014243\n",
      "1995-01-06    0.002047\n",
      "1995-01-09   -0.004099\n",
      "1995-01-10    0.012246\n",
      "1995-01-11   -0.002031\n",
      "1995-01-12    0.010112\n",
      "1995-01-13    0.028811\n",
      "1995-01-16    0.007969\n",
      "1995-01-17    0.003960\n",
      "1995-01-18   -0.021979\n",
      "1995-01-19   -0.004049\n",
      "1995-01-20   -0.004065\n",
      "1995-01-23    0.010132\n",
      "1995-01-24   -0.002018\n",
      "1995-01-25    0.014042\n",
      "1995-01-26    0.003977\n",
      "1995-01-27    0.027399\n",
      "1995-01-30    0.015325\n",
      "1995-01-31   -0.009551\n",
      "1995-02-01   -0.019381\n",
      "1995-02-02    0.007798\n",
      "1995-02-03    0.009661\n",
      "1995-02-06    0.022815\n",
      "1995-02-07   -0.001881\n",
      "1995-02-08   -0.011364\n",
      "1995-02-09   -0.001906\n",
      "1995-02-10   -0.001910\n",
      "1995-02-13    0.007619\n",
      "                ...   \n",
      "2019-06-14    0.002611\n",
      "2019-06-17   -0.001890\n",
      "2019-06-18   -0.012603\n",
      "2019-06-19    0.007454\n",
      "2019-06-20    0.011883\n",
      "2019-06-21   -0.004844\n",
      "2019-06-24    0.010111\n",
      "2019-06-25   -0.005445\n",
      "2019-06-26   -0.017973\n",
      "2019-06-27    0.000456\n",
      "2019-06-28   -0.001185\n",
      "2019-07-01    0.007631\n",
      "2019-07-02    0.008920\n",
      "2019-07-03    0.023055\n",
      "2019-07-05   -0.008186\n",
      "2019-07-08    0.007923\n",
      "2019-07-09   -0.010046\n",
      "2019-07-10    0.007412\n",
      "2019-07-11    0.005523\n",
      "2019-07-12    0.005319\n",
      "2019-07-15    0.004252\n",
      "2019-07-16    0.003544\n",
      "2019-07-17    0.000431\n",
      "2019-07-18    0.002133\n",
      "2019-07-19   -0.003732\n",
      "2019-07-22    0.002518\n",
      "2019-07-23   -0.012656\n",
      "2019-07-24   -0.011040\n",
      "2019-07-25    0.001509\n",
      "2019-07-26    0.017231\n",
      "Name: log_return, Length: 6185, dtype: float64\n"
     ]
    }
   ],
   "source": [
    "# Caculate the logarithmic Returns Rate\n",
    "PG['log_return'] = np.log(PG['Adj Close']/PG['Adj Close'].shift(1))\n",
    "print(PG['log_return'])"
   ]
  },
  {
   "cell_type": "code",
   "execution_count": 13,
   "metadata": {},
   "outputs": [
    {
     "data": {
      "image/png": "[encoded data removed]",
      "text/plain": [
       "<Figure size 720x432 with 1 Axes>"
      ]
     },
     "metadata": {
      "needs_background": "light"
     },
     "output_type": "display_data"
    }
   ],
   "source": [
    "PG['log_return'].plot(figsize=(10,6))\n",
    "plt.show()"
   ]
  },
  {
   "cell_type": "code",
   "execution_count": 14,
   "metadata": {},
   "outputs": [
    {
     "data": {
      "text/plain": [
       "0.0004656996661118818"
      ]
     },
     "execution_count": 14,
     "metadata": {},
     "output_type": "execute_result"
    }
   ],
   "source": [
    "log_return_d = PG['log_return'].mean()\n",
    "log_return_d"
   ]
  },
  {
   "cell_type": "code",
   "execution_count": 15,
   "metadata": {},
   "outputs": [
    {
     "data": {
      "text/plain": [
       "0.11642491652797045"
      ]
     },
     "execution_count": 15,
     "metadata": {},
     "output_type": "execute_result"
    }
   ],
   "source": [
    "log_return_a = PG['log_return'].mean() * 250\n",
    "log_return_a"
   ]
  },
  {
   "cell_type": "code",
   "execution_count": 16,
   "metadata": {},
   "outputs": [
    {
     "name": "stdout",
     "output_type": "stream",
     "text": [
      "11.642 %\n"
     ]
    }
   ],
   "source": [
    "print(str(round(log_return_a,5) * 100) + ' %')"
   ]
  },
  {
   "cell_type": "code",
   "execution_count": null,
   "metadata": {},
   "outputs": [],
   "source": [
    "# from the chart above we know that the log return ostensibly resembles the simple rate of return, however when we calculate the average daily and annual log returns we obtain a percentage that is significantly smaller thaan the one we obtained for simple returns"
   ]
  }
 ],
 "metadata": {
  "kernelspec": {
   "display_name": "Python 3",
   "language": "python",
   "name": "python3"
  },
  "language_info": {
   "codemirror_mode": {
    "name": "ipython",
    "version": 3
   },
   "file_extension": ".py",
   "mimetype": "text/x-python",
   "name": "python",
   "nbconvert_exporter": "python",
   "pygments_lexer": "ipython3",
   "version": "3.7.0"
  }
 },
 "nbformat": 4,
 "nbformat_minor": 2
}
